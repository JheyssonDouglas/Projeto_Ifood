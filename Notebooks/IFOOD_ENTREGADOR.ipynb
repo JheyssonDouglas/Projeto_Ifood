{
 "cells": [
  {
   "cell_type": "code",
   "execution_count": 1,
   "id": "ff3cc132",
   "metadata": {},
   "outputs": [],
   "source": [
    "import pandas as pd\n",
    "from datetime import datetime\n",
    "import numpy as np"
   ]
  },
  {
   "cell_type": "code",
   "execution_count": 2,
   "id": "64289614",
   "metadata": {
    "scrolled": true
   },
   "outputs": [
    {
     "data": {
      "text/html": [
       "<div>\n",
       "<style scoped>\n",
       "    .dataframe tbody tr th:only-of-type {\n",
       "        vertical-align: middle;\n",
       "    }\n",
       "\n",
       "    .dataframe tbody tr th {\n",
       "        vertical-align: top;\n",
       "    }\n",
       "\n",
       "    .dataframe thead th {\n",
       "        text-align: right;\n",
       "    }\n",
       "</style>\n",
       "<table border=\"1\" class=\"dataframe\">\n",
       "  <thead>\n",
       "    <tr style=\"text-align: right;\">\n",
       "      <th></th>\n",
       "      <th>driver_id</th>\n",
       "      <th>numero_pedido</th>\n",
       "      <th>modo_pagamento</th>\n",
       "      <th>modal</th>\n",
       "      <th>regiao</th>\n",
       "      <th>data_pedido</th>\n",
       "      <th>id_entregador</th>\n",
       "      <th>endereco_origem</th>\n",
       "      <th>dt</th>\n",
       "    </tr>\n",
       "  </thead>\n",
       "  <tbody>\n",
       "    <tr>\n",
       "      <th>0</th>\n",
       "      <td>2236269</td>\n",
       "      <td>2369781599</td>\n",
       "      <td>ONLINE</td>\n",
       "      <td>CAR</td>\n",
       "      <td>GOIANIA</td>\n",
       "      <td>2020-10-14 11:45:45.200</td>\n",
       "      <td>4cea13b7-58a6-4916-8986-613d38eb0c10</td>\n",
       "      <td>R 230 QD. 57 LT. 30-A, 234, S.LESTE UNIVERSITA...</td>\n",
       "      <td>2020-10-14</td>\n",
       "    </tr>\n",
       "    <tr>\n",
       "      <th>1</th>\n",
       "      <td>2236269</td>\n",
       "      <td>2369774060</td>\n",
       "      <td>ONLINE</td>\n",
       "      <td>CAR</td>\n",
       "      <td>GOIANIA</td>\n",
       "      <td>2020-10-14 11:44:00.017</td>\n",
       "      <td>4cea13b7-58a6-4916-8986-613d38eb0c10</td>\n",
       "      <td>R 230 QD. 57 LT. 30-A, 234, S.LESTE UNIVERSITA...</td>\n",
       "      <td>2020-10-14</td>\n",
       "    </tr>\n",
       "    <tr>\n",
       "      <th>2</th>\n",
       "      <td>2236269</td>\n",
       "      <td>2369717959</td>\n",
       "      <td>ONLINE</td>\n",
       "      <td>CAR</td>\n",
       "      <td>GOIANIA</td>\n",
       "      <td>2020-10-14 11:30:35.849</td>\n",
       "      <td>4cea13b7-58a6-4916-8986-613d38eb0c10</td>\n",
       "      <td>R 230 QD. 57 LT. 30-A, 234, S.LESTE UNIVERSITA...</td>\n",
       "      <td>2020-10-14</td>\n",
       "    </tr>\n",
       "    <tr>\n",
       "      <th>3</th>\n",
       "      <td>2236269</td>\n",
       "      <td>2369616788</td>\n",
       "      <td>ONLINE</td>\n",
       "      <td>CAR</td>\n",
       "      <td>GOIANIA</td>\n",
       "      <td>2020-10-14 10:59:39.420</td>\n",
       "      <td>4cea13b7-58a6-4916-8986-613d38eb0c10</td>\n",
       "      <td>RUA 13  N267, 267, CONJUNTO RIVIERA, GOIANIA, ...</td>\n",
       "      <td>2020-10-14</td>\n",
       "    </tr>\n",
       "    <tr>\n",
       "      <th>4</th>\n",
       "      <td>2236269</td>\n",
       "      <td>2369592299</td>\n",
       "      <td>ONLINE</td>\n",
       "      <td>CAR</td>\n",
       "      <td>GOIANIA</td>\n",
       "      <td>2020-10-14 10:42:09.247</td>\n",
       "      <td>4cea13b7-58a6-4916-8986-613d38eb0c10</td>\n",
       "      <td>RUA 13  N267, 267, CONJUNTO RIVIERA, GOIANIA, ...</td>\n",
       "      <td>2020-10-14</td>\n",
       "    </tr>\n",
       "  </tbody>\n",
       "</table>\n",
       "</div>"
      ],
      "text/plain": [
       "   driver_id numero_pedido modo_pagamento modal   regiao  \\\n",
       "0    2236269    2369781599         ONLINE   CAR  GOIANIA   \n",
       "1    2236269    2369774060         ONLINE   CAR  GOIANIA   \n",
       "2    2236269    2369717959         ONLINE   CAR  GOIANIA   \n",
       "3    2236269    2369616788         ONLINE   CAR  GOIANIA   \n",
       "4    2236269    2369592299         ONLINE   CAR  GOIANIA   \n",
       "\n",
       "               data_pedido                         id_entregador  \\\n",
       "0  2020-10-14 11:45:45.200  4cea13b7-58a6-4916-8986-613d38eb0c10   \n",
       "1  2020-10-14 11:44:00.017  4cea13b7-58a6-4916-8986-613d38eb0c10   \n",
       "2  2020-10-14 11:30:35.849  4cea13b7-58a6-4916-8986-613d38eb0c10   \n",
       "3  2020-10-14 10:59:39.420  4cea13b7-58a6-4916-8986-613d38eb0c10   \n",
       "4  2020-10-14 10:42:09.247  4cea13b7-58a6-4916-8986-613d38eb0c10   \n",
       "\n",
       "                                     endereco_origem          dt  \n",
       "0  R 230 QD. 57 LT. 30-A, 234, S.LESTE UNIVERSITA...  2020-10-14  \n",
       "1  R 230 QD. 57 LT. 30-A, 234, S.LESTE UNIVERSITA...  2020-10-14  \n",
       "2  R 230 QD. 57 LT. 30-A, 234, S.LESTE UNIVERSITA...  2020-10-14  \n",
       "3  RUA 13  N267, 267, CONJUNTO RIVIERA, GOIANIA, ...  2020-10-14  \n",
       "4  RUA 13  N267, 267, CONJUNTO RIVIERA, GOIANIA, ...  2020-10-14  "
      ]
     },
     "execution_count": 2,
     "metadata": {},
     "output_type": "execute_result"
    }
   ],
   "source": [
    "df = pd.read_csv(\"C:/Users/User/Desktop/Apresentação para ifood/Ifood motorista/pedidos.csv\")\n",
    "df.head()"
   ]
  },
  {
   "cell_type": "code",
   "execution_count": 3,
   "id": "7d858e14",
   "metadata": {},
   "outputs": [
    {
     "name": "stdout",
     "output_type": "stream",
     "text": [
      "<class 'pandas.core.frame.DataFrame'>\n",
      "RangeIndex: 930 entries, 0 to 929\n",
      "Data columns (total 9 columns):\n",
      " #   Column           Non-Null Count  Dtype \n",
      "---  ------           --------------  ----- \n",
      " 0   driver_id        930 non-null    int64 \n",
      " 1   numero_pedido    930 non-null    object\n",
      " 2   modo_pagamento   930 non-null    object\n",
      " 3   modal            930 non-null    object\n",
      " 4   regiao           930 non-null    object\n",
      " 5   data_pedido      930 non-null    object\n",
      " 6   id_entregador    930 non-null    object\n",
      " 7   endereco_origem  930 non-null    object\n",
      " 8   dt               930 non-null    object\n",
      "dtypes: int64(1), object(8)\n",
      "memory usage: 65.5+ KB\n"
     ]
    }
   ],
   "source": [
    "df.info()"
   ]
  },
  {
   "cell_type": "code",
   "execution_count": 4,
   "id": "f780962c",
   "metadata": {},
   "outputs": [],
   "source": [
    "# Alterando para datetime a coluna data pedido e convertendo no horario brasileiro UTC-03:00\n",
    "df['data_pedido'] = pd.to_datetime(df['data_pedido'])\n",
    "\n",
    "# Criando as colunas Ano,Mês, dia e dia da semana\n",
    "df['Ano'], df['Mês'] = df['data_pedido'].dt.year, df['data_pedido'].dt.month_name()\n",
    "df['Dia'] = df['data_pedido'].dt.day\n",
    "df['hora'] = df['data_pedido'].dt.hour\n",
    "df['Dia da Semana'] = df['data_pedido'].dt.day_name()"
   ]
  },
  {
   "cell_type": "code",
   "execution_count": 5,
   "id": "bc1059a3",
   "metadata": {},
   "outputs": [
    {
     "name": "stdout",
     "output_type": "stream",
     "text": [
      "<class 'pandas.core.frame.DataFrame'>\n",
      "RangeIndex: 930 entries, 0 to 929\n",
      "Data columns (total 14 columns):\n",
      " #   Column           Non-Null Count  Dtype         \n",
      "---  ------           --------------  -----         \n",
      " 0   driver_id        930 non-null    int64         \n",
      " 1   numero_pedido    930 non-null    object        \n",
      " 2   modo_pagamento   930 non-null    object        \n",
      " 3   modal            930 non-null    object        \n",
      " 4   regiao           930 non-null    object        \n",
      " 5   data_pedido      930 non-null    datetime64[ns]\n",
      " 6   id_entregador    930 non-null    object        \n",
      " 7   endereco_origem  930 non-null    object        \n",
      " 8   dt               930 non-null    object        \n",
      " 9   Ano              930 non-null    int64         \n",
      " 10  Mês              930 non-null    object        \n",
      " 11  Dia              930 non-null    int64         \n",
      " 12  hora             930 non-null    int64         \n",
      " 13  Dia da Semana    930 non-null    object        \n",
      "dtypes: datetime64[ns](1), int64(4), object(9)\n",
      "memory usage: 101.8+ KB\n"
     ]
    }
   ],
   "source": [
    "df.info()"
   ]
  },
  {
   "cell_type": "code",
   "execution_count": 6,
   "id": "bb578b01",
   "metadata": {},
   "outputs": [
    {
     "data": {
      "text/plain": [
       "driver_id                   int64\n",
       "numero_pedido              object\n",
       "modo_pagamento             object\n",
       "modal                      object\n",
       "regiao                     object\n",
       "data_pedido        datetime64[ns]\n",
       "id_entregador              object\n",
       "endereco_origem            object\n",
       "dt                         object\n",
       "Ano                         int64\n",
       "Mês                        object\n",
       "Dia                         int64\n",
       "hora                        int64\n",
       "Dia da Semana              object\n",
       "dtype: object"
      ]
     },
     "execution_count": 6,
     "metadata": {},
     "output_type": "execute_result"
    }
   ],
   "source": [
    "df.dtypes"
   ]
  },
  {
   "cell_type": "code",
   "execution_count": 7,
   "id": "3eeec980",
   "metadata": {
    "scrolled": false
   },
   "outputs": [
    {
     "data": {
      "text/html": [
       "<div>\n",
       "<style scoped>\n",
       "    .dataframe tbody tr th:only-of-type {\n",
       "        vertical-align: middle;\n",
       "    }\n",
       "\n",
       "    .dataframe tbody tr th {\n",
       "        vertical-align: top;\n",
       "    }\n",
       "\n",
       "    .dataframe thead th {\n",
       "        text-align: right;\n",
       "    }\n",
       "</style>\n",
       "<table border=\"1\" class=\"dataframe\">\n",
       "  <thead>\n",
       "    <tr style=\"text-align: right;\">\n",
       "      <th></th>\n",
       "      <th>driver_id</th>\n",
       "      <th>numero_pedido</th>\n",
       "      <th>modo_pagamento</th>\n",
       "      <th>modal</th>\n",
       "      <th>regiao</th>\n",
       "      <th>data_pedido</th>\n",
       "      <th>id_entregador</th>\n",
       "      <th>endereco_origem</th>\n",
       "      <th>dt</th>\n",
       "      <th>Ano</th>\n",
       "      <th>Mês</th>\n",
       "      <th>Dia</th>\n",
       "      <th>hora</th>\n",
       "      <th>Dia da Semana</th>\n",
       "    </tr>\n",
       "  </thead>\n",
       "  <tbody>\n",
       "    <tr>\n",
       "      <th>0</th>\n",
       "      <td>2236269</td>\n",
       "      <td>2369781599</td>\n",
       "      <td>ONLINE</td>\n",
       "      <td>CAR</td>\n",
       "      <td>GOIANIA</td>\n",
       "      <td>2020-10-14 11:45:45.200</td>\n",
       "      <td>4cea13b7-58a6-4916-8986-613d38eb0c10</td>\n",
       "      <td>R 230 QD. 57 LT. 30-A, 234, S.LESTE UNIVERSITA...</td>\n",
       "      <td>2020-10-14</td>\n",
       "      <td>2020</td>\n",
       "      <td>October</td>\n",
       "      <td>14</td>\n",
       "      <td>11</td>\n",
       "      <td>Wednesday</td>\n",
       "    </tr>\n",
       "    <tr>\n",
       "      <th>1</th>\n",
       "      <td>2236269</td>\n",
       "      <td>2369774060</td>\n",
       "      <td>ONLINE</td>\n",
       "      <td>CAR</td>\n",
       "      <td>GOIANIA</td>\n",
       "      <td>2020-10-14 11:44:00.017</td>\n",
       "      <td>4cea13b7-58a6-4916-8986-613d38eb0c10</td>\n",
       "      <td>R 230 QD. 57 LT. 30-A, 234, S.LESTE UNIVERSITA...</td>\n",
       "      <td>2020-10-14</td>\n",
       "      <td>2020</td>\n",
       "      <td>October</td>\n",
       "      <td>14</td>\n",
       "      <td>11</td>\n",
       "      <td>Wednesday</td>\n",
       "    </tr>\n",
       "    <tr>\n",
       "      <th>2</th>\n",
       "      <td>2236269</td>\n",
       "      <td>2369717959</td>\n",
       "      <td>ONLINE</td>\n",
       "      <td>CAR</td>\n",
       "      <td>GOIANIA</td>\n",
       "      <td>2020-10-14 11:30:35.849</td>\n",
       "      <td>4cea13b7-58a6-4916-8986-613d38eb0c10</td>\n",
       "      <td>R 230 QD. 57 LT. 30-A, 234, S.LESTE UNIVERSITA...</td>\n",
       "      <td>2020-10-14</td>\n",
       "      <td>2020</td>\n",
       "      <td>October</td>\n",
       "      <td>14</td>\n",
       "      <td>11</td>\n",
       "      <td>Wednesday</td>\n",
       "    </tr>\n",
       "    <tr>\n",
       "      <th>3</th>\n",
       "      <td>2236269</td>\n",
       "      <td>2369616788</td>\n",
       "      <td>ONLINE</td>\n",
       "      <td>CAR</td>\n",
       "      <td>GOIANIA</td>\n",
       "      <td>2020-10-14 10:59:39.420</td>\n",
       "      <td>4cea13b7-58a6-4916-8986-613d38eb0c10</td>\n",
       "      <td>RUA 13  N267, 267, CONJUNTO RIVIERA, GOIANIA, ...</td>\n",
       "      <td>2020-10-14</td>\n",
       "      <td>2020</td>\n",
       "      <td>October</td>\n",
       "      <td>14</td>\n",
       "      <td>10</td>\n",
       "      <td>Wednesday</td>\n",
       "    </tr>\n",
       "    <tr>\n",
       "      <th>4</th>\n",
       "      <td>2236269</td>\n",
       "      <td>2369592299</td>\n",
       "      <td>ONLINE</td>\n",
       "      <td>CAR</td>\n",
       "      <td>GOIANIA</td>\n",
       "      <td>2020-10-14 10:42:09.247</td>\n",
       "      <td>4cea13b7-58a6-4916-8986-613d38eb0c10</td>\n",
       "      <td>RUA 13  N267, 267, CONJUNTO RIVIERA, GOIANIA, ...</td>\n",
       "      <td>2020-10-14</td>\n",
       "      <td>2020</td>\n",
       "      <td>October</td>\n",
       "      <td>14</td>\n",
       "      <td>10</td>\n",
       "      <td>Wednesday</td>\n",
       "    </tr>\n",
       "    <tr>\n",
       "      <th>...</th>\n",
       "      <td>...</td>\n",
       "      <td>...</td>\n",
       "      <td>...</td>\n",
       "      <td>...</td>\n",
       "      <td>...</td>\n",
       "      <td>...</td>\n",
       "      <td>...</td>\n",
       "      <td>...</td>\n",
       "      <td>...</td>\n",
       "      <td>...</td>\n",
       "      <td>...</td>\n",
       "      <td>...</td>\n",
       "      <td>...</td>\n",
       "      <td>...</td>\n",
       "    </tr>\n",
       "    <tr>\n",
       "      <th>925</th>\n",
       "      <td>2236269</td>\n",
       "      <td>2761655222</td>\n",
       "      <td>ONLINE</td>\n",
       "      <td>CAR</td>\n",
       "      <td>GOIANIA</td>\n",
       "      <td>2021-01-10 15:03:15.406</td>\n",
       "      <td>4cea13b7-58a6-4916-8986-613d38eb0c10</td>\n",
       "      <td>Avenida Deputado Jamel Cecílio, 3901, JARDIM G...</td>\n",
       "      <td>2021-01-10</td>\n",
       "      <td>2021</td>\n",
       "      <td>January</td>\n",
       "      <td>10</td>\n",
       "      <td>15</td>\n",
       "      <td>Sunday</td>\n",
       "    </tr>\n",
       "    <tr>\n",
       "      <th>926</th>\n",
       "      <td>2236269</td>\n",
       "      <td>2761554763</td>\n",
       "      <td>ONLINE</td>\n",
       "      <td>CAR</td>\n",
       "      <td>GOIANIA</td>\n",
       "      <td>2021-01-10 14:23:38.039</td>\n",
       "      <td>4cea13b7-58a6-4916-8986-613d38eb0c10</td>\n",
       "      <td>Avenida Deputado Jamel Cecílio, 3901, JARDIM G...</td>\n",
       "      <td>2021-01-10</td>\n",
       "      <td>2021</td>\n",
       "      <td>January</td>\n",
       "      <td>10</td>\n",
       "      <td>14</td>\n",
       "      <td>Sunday</td>\n",
       "    </tr>\n",
       "    <tr>\n",
       "      <th>927</th>\n",
       "      <td>2236269</td>\n",
       "      <td>2762274811</td>\n",
       "      <td>ONLINE</td>\n",
       "      <td>CAR</td>\n",
       "      <td>GOIANIA</td>\n",
       "      <td>2021-01-10 19:04:40.633</td>\n",
       "      <td>4cea13b7-58a6-4916-8986-613d38eb0c10</td>\n",
       "      <td>Avenida C8, 540, Setor Sudoeste, GOIANIA, Brazil</td>\n",
       "      <td>2021-01-10</td>\n",
       "      <td>2021</td>\n",
       "      <td>January</td>\n",
       "      <td>10</td>\n",
       "      <td>19</td>\n",
       "      <td>Sunday</td>\n",
       "    </tr>\n",
       "    <tr>\n",
       "      <th>928</th>\n",
       "      <td>2236269</td>\n",
       "      <td>2760936435</td>\n",
       "      <td>ONLINE</td>\n",
       "      <td>CAR</td>\n",
       "      <td>GOIANIA</td>\n",
       "      <td>2021-01-10 11:17:11.710</td>\n",
       "      <td>4cea13b7-58a6-4916-8986-613d38eb0c10</td>\n",
       "      <td>Avenida C8, 540, Setor Sudoeste, GOIANIA, Brazil</td>\n",
       "      <td>2021-01-10</td>\n",
       "      <td>2021</td>\n",
       "      <td>January</td>\n",
       "      <td>10</td>\n",
       "      <td>11</td>\n",
       "      <td>Sunday</td>\n",
       "    </tr>\n",
       "    <tr>\n",
       "      <th>929</th>\n",
       "      <td>2236269</td>\n",
       "      <td>2762437740</td>\n",
       "      <td>ONLINE</td>\n",
       "      <td>CAR</td>\n",
       "      <td>GOIANIA</td>\n",
       "      <td>2021-01-10 19:31:00.852</td>\n",
       "      <td>4cea13b7-58a6-4916-8986-613d38eb0c10</td>\n",
       "      <td>Avenida C8, 540, Setor Sudoeste, GOIANIA, Brazil</td>\n",
       "      <td>2021-01-10</td>\n",
       "      <td>2021</td>\n",
       "      <td>January</td>\n",
       "      <td>10</td>\n",
       "      <td>19</td>\n",
       "      <td>Sunday</td>\n",
       "    </tr>\n",
       "  </tbody>\n",
       "</table>\n",
       "<p>930 rows × 14 columns</p>\n",
       "</div>"
      ],
      "text/plain": [
       "     driver_id numero_pedido modo_pagamento modal   regiao  \\\n",
       "0      2236269    2369781599         ONLINE   CAR  GOIANIA   \n",
       "1      2236269    2369774060         ONLINE   CAR  GOIANIA   \n",
       "2      2236269    2369717959         ONLINE   CAR  GOIANIA   \n",
       "3      2236269    2369616788         ONLINE   CAR  GOIANIA   \n",
       "4      2236269    2369592299         ONLINE   CAR  GOIANIA   \n",
       "..         ...           ...            ...   ...      ...   \n",
       "925    2236269    2761655222         ONLINE   CAR  GOIANIA   \n",
       "926    2236269    2761554763         ONLINE   CAR  GOIANIA   \n",
       "927    2236269    2762274811         ONLINE   CAR  GOIANIA   \n",
       "928    2236269    2760936435         ONLINE   CAR  GOIANIA   \n",
       "929    2236269    2762437740         ONLINE   CAR  GOIANIA   \n",
       "\n",
       "                data_pedido                         id_entregador  \\\n",
       "0   2020-10-14 11:45:45.200  4cea13b7-58a6-4916-8986-613d38eb0c10   \n",
       "1   2020-10-14 11:44:00.017  4cea13b7-58a6-4916-8986-613d38eb0c10   \n",
       "2   2020-10-14 11:30:35.849  4cea13b7-58a6-4916-8986-613d38eb0c10   \n",
       "3   2020-10-14 10:59:39.420  4cea13b7-58a6-4916-8986-613d38eb0c10   \n",
       "4   2020-10-14 10:42:09.247  4cea13b7-58a6-4916-8986-613d38eb0c10   \n",
       "..                      ...                                   ...   \n",
       "925 2021-01-10 15:03:15.406  4cea13b7-58a6-4916-8986-613d38eb0c10   \n",
       "926 2021-01-10 14:23:38.039  4cea13b7-58a6-4916-8986-613d38eb0c10   \n",
       "927 2021-01-10 19:04:40.633  4cea13b7-58a6-4916-8986-613d38eb0c10   \n",
       "928 2021-01-10 11:17:11.710  4cea13b7-58a6-4916-8986-613d38eb0c10   \n",
       "929 2021-01-10 19:31:00.852  4cea13b7-58a6-4916-8986-613d38eb0c10   \n",
       "\n",
       "                                       endereco_origem          dt   Ano  \\\n",
       "0    R 230 QD. 57 LT. 30-A, 234, S.LESTE UNIVERSITA...  2020-10-14  2020   \n",
       "1    R 230 QD. 57 LT. 30-A, 234, S.LESTE UNIVERSITA...  2020-10-14  2020   \n",
       "2    R 230 QD. 57 LT. 30-A, 234, S.LESTE UNIVERSITA...  2020-10-14  2020   \n",
       "3    RUA 13  N267, 267, CONJUNTO RIVIERA, GOIANIA, ...  2020-10-14  2020   \n",
       "4    RUA 13  N267, 267, CONJUNTO RIVIERA, GOIANIA, ...  2020-10-14  2020   \n",
       "..                                                 ...         ...   ...   \n",
       "925  Avenida Deputado Jamel Cecílio, 3901, JARDIM G...  2021-01-10  2021   \n",
       "926  Avenida Deputado Jamel Cecílio, 3901, JARDIM G...  2021-01-10  2021   \n",
       "927   Avenida C8, 540, Setor Sudoeste, GOIANIA, Brazil  2021-01-10  2021   \n",
       "928   Avenida C8, 540, Setor Sudoeste, GOIANIA, Brazil  2021-01-10  2021   \n",
       "929   Avenida C8, 540, Setor Sudoeste, GOIANIA, Brazil  2021-01-10  2021   \n",
       "\n",
       "         Mês  Dia  hora Dia da Semana  \n",
       "0    October   14    11     Wednesday  \n",
       "1    October   14    11     Wednesday  \n",
       "2    October   14    11     Wednesday  \n",
       "3    October   14    10     Wednesday  \n",
       "4    October   14    10     Wednesday  \n",
       "..       ...  ...   ...           ...  \n",
       "925  January   10    15        Sunday  \n",
       "926  January   10    14        Sunday  \n",
       "927  January   10    19        Sunday  \n",
       "928  January   10    11        Sunday  \n",
       "929  January   10    19        Sunday  \n",
       "\n",
       "[930 rows x 14 columns]"
      ]
     },
     "execution_count": 7,
     "metadata": {},
     "output_type": "execute_result"
    }
   ],
   "source": [
    "df"
   ]
  },
  {
   "cell_type": "code",
   "execution_count": 8,
   "id": "6446ac2f",
   "metadata": {},
   "outputs": [],
   "source": [
    "df['Mês'] = df['Mês'].map({'January':'Janeiro',\n",
    "                             'February':'Fevereiro',\n",
    "                             'March':'Março',\n",
    "                             'April' : 'Abril',\n",
    "                             'May' : 'Maio',\n",
    "                             'June' : 'Junho',               \n",
    "                             'July' : 'Julho', \n",
    "                             'August' : 'Agosto',          \n",
    "                             'September' : 'Setembro',\n",
    "                             'October' : 'Outubro',\n",
    "                             'November' : 'Novembro',                \n",
    "                             'December' : 'Dezembro',                 \n",
    "                             np.nan:'NY'},\n",
    "                             na_action=None)"
   ]
  },
  {
   "cell_type": "code",
   "execution_count": 9,
   "id": "469bcc12",
   "metadata": {},
   "outputs": [],
   "source": [
    "df['Dia da Semana'] = df['Dia da Semana'].map({'Monday':'Segunda-feira',\n",
    "                             'Tuesday':'Terça-feira',\n",
    "                             'Wednesday':'Quarta-feira',\n",
    "                             'Thursday' : 'Quinta-feira',\n",
    "                             'Friday' : 'Sexta-feira',\n",
    "                             'Saturday' : 'Sábado',               \n",
    "                             'Sunday' : 'Domingo',            \n",
    "                             np.nan:'NY'},\n",
    "                             na_action=None)"
   ]
  },
  {
   "cell_type": "code",
   "execution_count": 10,
   "id": "4aea9b2f",
   "metadata": {},
   "outputs": [],
   "source": [
    "def Parte_do_dia(x):\n",
    "    if (x >= 6) and (x < 12):\n",
    "        return 'Manhã'\n",
    "    elif (x >= 12) and (x < 18):\n",
    "        return 'Tarde'\n",
    "    else:\n",
    "        return'Noite'\n",
    "\n",
    "df['Parte do dia'] = df['data_pedido'].dt.hour.apply(Parte_do_dia)"
   ]
  },
  {
   "cell_type": "code",
   "execution_count": 11,
   "id": "4aa8d4f7",
   "metadata": {},
   "outputs": [
    {
     "data": {
      "text/html": [
       "<div>\n",
       "<style scoped>\n",
       "    .dataframe tbody tr th:only-of-type {\n",
       "        vertical-align: middle;\n",
       "    }\n",
       "\n",
       "    .dataframe tbody tr th {\n",
       "        vertical-align: top;\n",
       "    }\n",
       "\n",
       "    .dataframe thead th {\n",
       "        text-align: right;\n",
       "    }\n",
       "</style>\n",
       "<table border=\"1\" class=\"dataframe\">\n",
       "  <thead>\n",
       "    <tr style=\"text-align: right;\">\n",
       "      <th></th>\n",
       "      <th>driver_id</th>\n",
       "      <th>numero_pedido</th>\n",
       "      <th>modo_pagamento</th>\n",
       "      <th>modal</th>\n",
       "      <th>regiao</th>\n",
       "      <th>data_pedido</th>\n",
       "      <th>id_entregador</th>\n",
       "      <th>endereco_origem</th>\n",
       "      <th>dt</th>\n",
       "      <th>Ano</th>\n",
       "      <th>Mês</th>\n",
       "      <th>Dia</th>\n",
       "      <th>hora</th>\n",
       "      <th>Dia da Semana</th>\n",
       "      <th>Parte do dia</th>\n",
       "    </tr>\n",
       "  </thead>\n",
       "  <tbody>\n",
       "    <tr>\n",
       "      <th>0</th>\n",
       "      <td>2236269</td>\n",
       "      <td>2369781599</td>\n",
       "      <td>ONLINE</td>\n",
       "      <td>CAR</td>\n",
       "      <td>GOIANIA</td>\n",
       "      <td>2020-10-14 11:45:45.200</td>\n",
       "      <td>4cea13b7-58a6-4916-8986-613d38eb0c10</td>\n",
       "      <td>R 230 QD. 57 LT. 30-A, 234, S.LESTE UNIVERSITA...</td>\n",
       "      <td>2020-10-14</td>\n",
       "      <td>2020</td>\n",
       "      <td>Outubro</td>\n",
       "      <td>14</td>\n",
       "      <td>11</td>\n",
       "      <td>Quarta-feira</td>\n",
       "      <td>Manhã</td>\n",
       "    </tr>\n",
       "    <tr>\n",
       "      <th>1</th>\n",
       "      <td>2236269</td>\n",
       "      <td>2369774060</td>\n",
       "      <td>ONLINE</td>\n",
       "      <td>CAR</td>\n",
       "      <td>GOIANIA</td>\n",
       "      <td>2020-10-14 11:44:00.017</td>\n",
       "      <td>4cea13b7-58a6-4916-8986-613d38eb0c10</td>\n",
       "      <td>R 230 QD. 57 LT. 30-A, 234, S.LESTE UNIVERSITA...</td>\n",
       "      <td>2020-10-14</td>\n",
       "      <td>2020</td>\n",
       "      <td>Outubro</td>\n",
       "      <td>14</td>\n",
       "      <td>11</td>\n",
       "      <td>Quarta-feira</td>\n",
       "      <td>Manhã</td>\n",
       "    </tr>\n",
       "    <tr>\n",
       "      <th>2</th>\n",
       "      <td>2236269</td>\n",
       "      <td>2369717959</td>\n",
       "      <td>ONLINE</td>\n",
       "      <td>CAR</td>\n",
       "      <td>GOIANIA</td>\n",
       "      <td>2020-10-14 11:30:35.849</td>\n",
       "      <td>4cea13b7-58a6-4916-8986-613d38eb0c10</td>\n",
       "      <td>R 230 QD. 57 LT. 30-A, 234, S.LESTE UNIVERSITA...</td>\n",
       "      <td>2020-10-14</td>\n",
       "      <td>2020</td>\n",
       "      <td>Outubro</td>\n",
       "      <td>14</td>\n",
       "      <td>11</td>\n",
       "      <td>Quarta-feira</td>\n",
       "      <td>Manhã</td>\n",
       "    </tr>\n",
       "    <tr>\n",
       "      <th>3</th>\n",
       "      <td>2236269</td>\n",
       "      <td>2369616788</td>\n",
       "      <td>ONLINE</td>\n",
       "      <td>CAR</td>\n",
       "      <td>GOIANIA</td>\n",
       "      <td>2020-10-14 10:59:39.420</td>\n",
       "      <td>4cea13b7-58a6-4916-8986-613d38eb0c10</td>\n",
       "      <td>RUA 13  N267, 267, CONJUNTO RIVIERA, GOIANIA, ...</td>\n",
       "      <td>2020-10-14</td>\n",
       "      <td>2020</td>\n",
       "      <td>Outubro</td>\n",
       "      <td>14</td>\n",
       "      <td>10</td>\n",
       "      <td>Quarta-feira</td>\n",
       "      <td>Manhã</td>\n",
       "    </tr>\n",
       "    <tr>\n",
       "      <th>4</th>\n",
       "      <td>2236269</td>\n",
       "      <td>2369592299</td>\n",
       "      <td>ONLINE</td>\n",
       "      <td>CAR</td>\n",
       "      <td>GOIANIA</td>\n",
       "      <td>2020-10-14 10:42:09.247</td>\n",
       "      <td>4cea13b7-58a6-4916-8986-613d38eb0c10</td>\n",
       "      <td>RUA 13  N267, 267, CONJUNTO RIVIERA, GOIANIA, ...</td>\n",
       "      <td>2020-10-14</td>\n",
       "      <td>2020</td>\n",
       "      <td>Outubro</td>\n",
       "      <td>14</td>\n",
       "      <td>10</td>\n",
       "      <td>Quarta-feira</td>\n",
       "      <td>Manhã</td>\n",
       "    </tr>\n",
       "  </tbody>\n",
       "</table>\n",
       "</div>"
      ],
      "text/plain": [
       "   driver_id numero_pedido modo_pagamento modal   regiao  \\\n",
       "0    2236269    2369781599         ONLINE   CAR  GOIANIA   \n",
       "1    2236269    2369774060         ONLINE   CAR  GOIANIA   \n",
       "2    2236269    2369717959         ONLINE   CAR  GOIANIA   \n",
       "3    2236269    2369616788         ONLINE   CAR  GOIANIA   \n",
       "4    2236269    2369592299         ONLINE   CAR  GOIANIA   \n",
       "\n",
       "              data_pedido                         id_entregador  \\\n",
       "0 2020-10-14 11:45:45.200  4cea13b7-58a6-4916-8986-613d38eb0c10   \n",
       "1 2020-10-14 11:44:00.017  4cea13b7-58a6-4916-8986-613d38eb0c10   \n",
       "2 2020-10-14 11:30:35.849  4cea13b7-58a6-4916-8986-613d38eb0c10   \n",
       "3 2020-10-14 10:59:39.420  4cea13b7-58a6-4916-8986-613d38eb0c10   \n",
       "4 2020-10-14 10:42:09.247  4cea13b7-58a6-4916-8986-613d38eb0c10   \n",
       "\n",
       "                                     endereco_origem          dt   Ano  \\\n",
       "0  R 230 QD. 57 LT. 30-A, 234, S.LESTE UNIVERSITA...  2020-10-14  2020   \n",
       "1  R 230 QD. 57 LT. 30-A, 234, S.LESTE UNIVERSITA...  2020-10-14  2020   \n",
       "2  R 230 QD. 57 LT. 30-A, 234, S.LESTE UNIVERSITA...  2020-10-14  2020   \n",
       "3  RUA 13  N267, 267, CONJUNTO RIVIERA, GOIANIA, ...  2020-10-14  2020   \n",
       "4  RUA 13  N267, 267, CONJUNTO RIVIERA, GOIANIA, ...  2020-10-14  2020   \n",
       "\n",
       "       Mês  Dia  hora Dia da Semana Parte do dia  \n",
       "0  Outubro   14    11  Quarta-feira        Manhã  \n",
       "1  Outubro   14    11  Quarta-feira        Manhã  \n",
       "2  Outubro   14    11  Quarta-feira        Manhã  \n",
       "3  Outubro   14    10  Quarta-feira        Manhã  \n",
       "4  Outubro   14    10  Quarta-feira        Manhã  "
      ]
     },
     "execution_count": 11,
     "metadata": {},
     "output_type": "execute_result"
    }
   ],
   "source": [
    "df.head(5)"
   ]
  },
  {
   "cell_type": "code",
   "execution_count": 12,
   "id": "b4cb1d4c",
   "metadata": {},
   "outputs": [
    {
     "data": {
      "text/plain": [
       "Tarde    468\n",
       "Manhã    277\n",
       "Noite    185\n",
       "Name: Parte do dia, dtype: int64"
      ]
     },
     "execution_count": 12,
     "metadata": {},
     "output_type": "execute_result"
    }
   ],
   "source": [
    "df['Parte do dia'].value_counts()"
   ]
  },
  {
   "cell_type": "code",
   "execution_count": 13,
   "id": "aed40f3a",
   "metadata": {},
   "outputs": [],
   "source": [
    "# Renomeando as colunas de data e hora\n",
    "\n",
    "df.rename(columns={'data_pedido': 'hora_pedido'}, inplace = True)"
   ]
  },
  {
   "cell_type": "code",
   "execution_count": 14,
   "id": "ff672e7f",
   "metadata": {
    "scrolled": true
   },
   "outputs": [
    {
     "data": {
      "text/html": [
       "<div>\n",
       "<style scoped>\n",
       "    .dataframe tbody tr th:only-of-type {\n",
       "        vertical-align: middle;\n",
       "    }\n",
       "\n",
       "    .dataframe tbody tr th {\n",
       "        vertical-align: top;\n",
       "    }\n",
       "\n",
       "    .dataframe thead th {\n",
       "        text-align: right;\n",
       "    }\n",
       "</style>\n",
       "<table border=\"1\" class=\"dataframe\">\n",
       "  <thead>\n",
       "    <tr style=\"text-align: right;\">\n",
       "      <th></th>\n",
       "      <th>driver_id</th>\n",
       "      <th>numero_pedido</th>\n",
       "      <th>modo_pagamento</th>\n",
       "      <th>modal</th>\n",
       "      <th>regiao</th>\n",
       "      <th>hora_pedido</th>\n",
       "      <th>id_entregador</th>\n",
       "      <th>endereco_origem</th>\n",
       "      <th>dt</th>\n",
       "      <th>Ano</th>\n",
       "      <th>Mês</th>\n",
       "      <th>Dia</th>\n",
       "      <th>hora</th>\n",
       "      <th>Dia da Semana</th>\n",
       "      <th>Parte do dia</th>\n",
       "    </tr>\n",
       "  </thead>\n",
       "  <tbody>\n",
       "    <tr>\n",
       "      <th>0</th>\n",
       "      <td>2236269</td>\n",
       "      <td>2369781599</td>\n",
       "      <td>ONLINE</td>\n",
       "      <td>CAR</td>\n",
       "      <td>GOIANIA</td>\n",
       "      <td>2020-10-14 11:45:45.200</td>\n",
       "      <td>4cea13b7-58a6-4916-8986-613d38eb0c10</td>\n",
       "      <td>R 230 QD. 57 LT. 30-A, 234, S.LESTE UNIVERSITA...</td>\n",
       "      <td>2020-10-14</td>\n",
       "      <td>2020</td>\n",
       "      <td>Outubro</td>\n",
       "      <td>14</td>\n",
       "      <td>11</td>\n",
       "      <td>Quarta-feira</td>\n",
       "      <td>Manhã</td>\n",
       "    </tr>\n",
       "    <tr>\n",
       "      <th>1</th>\n",
       "      <td>2236269</td>\n",
       "      <td>2369774060</td>\n",
       "      <td>ONLINE</td>\n",
       "      <td>CAR</td>\n",
       "      <td>GOIANIA</td>\n",
       "      <td>2020-10-14 11:44:00.017</td>\n",
       "      <td>4cea13b7-58a6-4916-8986-613d38eb0c10</td>\n",
       "      <td>R 230 QD. 57 LT. 30-A, 234, S.LESTE UNIVERSITA...</td>\n",
       "      <td>2020-10-14</td>\n",
       "      <td>2020</td>\n",
       "      <td>Outubro</td>\n",
       "      <td>14</td>\n",
       "      <td>11</td>\n",
       "      <td>Quarta-feira</td>\n",
       "      <td>Manhã</td>\n",
       "    </tr>\n",
       "    <tr>\n",
       "      <th>2</th>\n",
       "      <td>2236269</td>\n",
       "      <td>2369717959</td>\n",
       "      <td>ONLINE</td>\n",
       "      <td>CAR</td>\n",
       "      <td>GOIANIA</td>\n",
       "      <td>2020-10-14 11:30:35.849</td>\n",
       "      <td>4cea13b7-58a6-4916-8986-613d38eb0c10</td>\n",
       "      <td>R 230 QD. 57 LT. 30-A, 234, S.LESTE UNIVERSITA...</td>\n",
       "      <td>2020-10-14</td>\n",
       "      <td>2020</td>\n",
       "      <td>Outubro</td>\n",
       "      <td>14</td>\n",
       "      <td>11</td>\n",
       "      <td>Quarta-feira</td>\n",
       "      <td>Manhã</td>\n",
       "    </tr>\n",
       "    <tr>\n",
       "      <th>3</th>\n",
       "      <td>2236269</td>\n",
       "      <td>2369616788</td>\n",
       "      <td>ONLINE</td>\n",
       "      <td>CAR</td>\n",
       "      <td>GOIANIA</td>\n",
       "      <td>2020-10-14 10:59:39.420</td>\n",
       "      <td>4cea13b7-58a6-4916-8986-613d38eb0c10</td>\n",
       "      <td>RUA 13  N267, 267, CONJUNTO RIVIERA, GOIANIA, ...</td>\n",
       "      <td>2020-10-14</td>\n",
       "      <td>2020</td>\n",
       "      <td>Outubro</td>\n",
       "      <td>14</td>\n",
       "      <td>10</td>\n",
       "      <td>Quarta-feira</td>\n",
       "      <td>Manhã</td>\n",
       "    </tr>\n",
       "    <tr>\n",
       "      <th>4</th>\n",
       "      <td>2236269</td>\n",
       "      <td>2369592299</td>\n",
       "      <td>ONLINE</td>\n",
       "      <td>CAR</td>\n",
       "      <td>GOIANIA</td>\n",
       "      <td>2020-10-14 10:42:09.247</td>\n",
       "      <td>4cea13b7-58a6-4916-8986-613d38eb0c10</td>\n",
       "      <td>RUA 13  N267, 267, CONJUNTO RIVIERA, GOIANIA, ...</td>\n",
       "      <td>2020-10-14</td>\n",
       "      <td>2020</td>\n",
       "      <td>Outubro</td>\n",
       "      <td>14</td>\n",
       "      <td>10</td>\n",
       "      <td>Quarta-feira</td>\n",
       "      <td>Manhã</td>\n",
       "    </tr>\n",
       "  </tbody>\n",
       "</table>\n",
       "</div>"
      ],
      "text/plain": [
       "   driver_id numero_pedido modo_pagamento modal   regiao  \\\n",
       "0    2236269    2369781599         ONLINE   CAR  GOIANIA   \n",
       "1    2236269    2369774060         ONLINE   CAR  GOIANIA   \n",
       "2    2236269    2369717959         ONLINE   CAR  GOIANIA   \n",
       "3    2236269    2369616788         ONLINE   CAR  GOIANIA   \n",
       "4    2236269    2369592299         ONLINE   CAR  GOIANIA   \n",
       "\n",
       "              hora_pedido                         id_entregador  \\\n",
       "0 2020-10-14 11:45:45.200  4cea13b7-58a6-4916-8986-613d38eb0c10   \n",
       "1 2020-10-14 11:44:00.017  4cea13b7-58a6-4916-8986-613d38eb0c10   \n",
       "2 2020-10-14 11:30:35.849  4cea13b7-58a6-4916-8986-613d38eb0c10   \n",
       "3 2020-10-14 10:59:39.420  4cea13b7-58a6-4916-8986-613d38eb0c10   \n",
       "4 2020-10-14 10:42:09.247  4cea13b7-58a6-4916-8986-613d38eb0c10   \n",
       "\n",
       "                                     endereco_origem          dt   Ano  \\\n",
       "0  R 230 QD. 57 LT. 30-A, 234, S.LESTE UNIVERSITA...  2020-10-14  2020   \n",
       "1  R 230 QD. 57 LT. 30-A, 234, S.LESTE UNIVERSITA...  2020-10-14  2020   \n",
       "2  R 230 QD. 57 LT. 30-A, 234, S.LESTE UNIVERSITA...  2020-10-14  2020   \n",
       "3  RUA 13  N267, 267, CONJUNTO RIVIERA, GOIANIA, ...  2020-10-14  2020   \n",
       "4  RUA 13  N267, 267, CONJUNTO RIVIERA, GOIANIA, ...  2020-10-14  2020   \n",
       "\n",
       "       Mês  Dia  hora Dia da Semana Parte do dia  \n",
       "0  Outubro   14    11  Quarta-feira        Manhã  \n",
       "1  Outubro   14    11  Quarta-feira        Manhã  \n",
       "2  Outubro   14    11  Quarta-feira        Manhã  \n",
       "3  Outubro   14    10  Quarta-feira        Manhã  \n",
       "4  Outubro   14    10  Quarta-feira        Manhã  "
      ]
     },
     "execution_count": 14,
     "metadata": {},
     "output_type": "execute_result"
    }
   ],
   "source": [
    "df.head()"
   ]
  },
  {
   "cell_type": "code",
   "execution_count": 15,
   "id": "8d5b4cc5",
   "metadata": {
    "scrolled": true
   },
   "outputs": [
    {
     "data": {
      "text/html": [
       "<div>\n",
       "<style scoped>\n",
       "    .dataframe tbody tr th:only-of-type {\n",
       "        vertical-align: middle;\n",
       "    }\n",
       "\n",
       "    .dataframe tbody tr th {\n",
       "        vertical-align: top;\n",
       "    }\n",
       "\n",
       "    .dataframe thead th {\n",
       "        text-align: right;\n",
       "    }\n",
       "</style>\n",
       "<table border=\"1\" class=\"dataframe\">\n",
       "  <thead>\n",
       "    <tr style=\"text-align: right;\">\n",
       "      <th></th>\n",
       "      <th>0</th>\n",
       "      <th>1</th>\n",
       "      <th>2</th>\n",
       "      <th>3</th>\n",
       "      <th>4</th>\n",
       "    </tr>\n",
       "  </thead>\n",
       "  <tbody>\n",
       "    <tr>\n",
       "      <th>0</th>\n",
       "      <td>R 230 QD. 57 LT. 30-A</td>\n",
       "      <td>234</td>\n",
       "      <td>S.LESTE UNIVERSITARIO</td>\n",
       "      <td>GOIANIA</td>\n",
       "      <td>Brazil</td>\n",
       "    </tr>\n",
       "    <tr>\n",
       "      <th>1</th>\n",
       "      <td>R 230 QD. 57 LT. 30-A</td>\n",
       "      <td>234</td>\n",
       "      <td>S.LESTE UNIVERSITARIO</td>\n",
       "      <td>GOIANIA</td>\n",
       "      <td>Brazil</td>\n",
       "    </tr>\n",
       "    <tr>\n",
       "      <th>2</th>\n",
       "      <td>R 230 QD. 57 LT. 30-A</td>\n",
       "      <td>234</td>\n",
       "      <td>S.LESTE UNIVERSITARIO</td>\n",
       "      <td>GOIANIA</td>\n",
       "      <td>Brazil</td>\n",
       "    </tr>\n",
       "    <tr>\n",
       "      <th>3</th>\n",
       "      <td>RUA 13  N267</td>\n",
       "      <td>267</td>\n",
       "      <td>CONJUNTO RIVIERA</td>\n",
       "      <td>GOIANIA</td>\n",
       "      <td>Brazil</td>\n",
       "    </tr>\n",
       "    <tr>\n",
       "      <th>4</th>\n",
       "      <td>RUA 13  N267</td>\n",
       "      <td>267</td>\n",
       "      <td>CONJUNTO RIVIERA</td>\n",
       "      <td>GOIANIA</td>\n",
       "      <td>Brazil</td>\n",
       "    </tr>\n",
       "    <tr>\n",
       "      <th>...</th>\n",
       "      <td>...</td>\n",
       "      <td>...</td>\n",
       "      <td>...</td>\n",
       "      <td>...</td>\n",
       "      <td>...</td>\n",
       "    </tr>\n",
       "    <tr>\n",
       "      <th>925</th>\n",
       "      <td>Avenida Deputado Jamel Cecílio</td>\n",
       "      <td>3901</td>\n",
       "      <td>JARDIM GOIAS</td>\n",
       "      <td>GOIANIA</td>\n",
       "      <td>Brazil</td>\n",
       "    </tr>\n",
       "    <tr>\n",
       "      <th>926</th>\n",
       "      <td>Avenida Deputado Jamel Cecílio</td>\n",
       "      <td>3901</td>\n",
       "      <td>JARDIM GOIAS</td>\n",
       "      <td>GOIANIA</td>\n",
       "      <td>Brazil</td>\n",
       "    </tr>\n",
       "    <tr>\n",
       "      <th>927</th>\n",
       "      <td>Avenida C8</td>\n",
       "      <td>540</td>\n",
       "      <td>Setor Sudoeste</td>\n",
       "      <td>GOIANIA</td>\n",
       "      <td>Brazil</td>\n",
       "    </tr>\n",
       "    <tr>\n",
       "      <th>928</th>\n",
       "      <td>Avenida C8</td>\n",
       "      <td>540</td>\n",
       "      <td>Setor Sudoeste</td>\n",
       "      <td>GOIANIA</td>\n",
       "      <td>Brazil</td>\n",
       "    </tr>\n",
       "    <tr>\n",
       "      <th>929</th>\n",
       "      <td>Avenida C8</td>\n",
       "      <td>540</td>\n",
       "      <td>Setor Sudoeste</td>\n",
       "      <td>GOIANIA</td>\n",
       "      <td>Brazil</td>\n",
       "    </tr>\n",
       "  </tbody>\n",
       "</table>\n",
       "<p>930 rows × 5 columns</p>\n",
       "</div>"
      ],
      "text/plain": [
       "                                  0      1                       2         3  \\\n",
       "0             R 230 QD. 57 LT. 30-A    234   S.LESTE UNIVERSITARIO   GOIANIA   \n",
       "1             R 230 QD. 57 LT. 30-A    234   S.LESTE UNIVERSITARIO   GOIANIA   \n",
       "2             R 230 QD. 57 LT. 30-A    234   S.LESTE UNIVERSITARIO   GOIANIA   \n",
       "3                      RUA 13  N267    267        CONJUNTO RIVIERA   GOIANIA   \n",
       "4                      RUA 13  N267    267        CONJUNTO RIVIERA   GOIANIA   \n",
       "..                              ...    ...                     ...       ...   \n",
       "925  Avenida Deputado Jamel Cecílio   3901            JARDIM GOIAS   GOIANIA   \n",
       "926  Avenida Deputado Jamel Cecílio   3901            JARDIM GOIAS   GOIANIA   \n",
       "927                      Avenida C8    540          Setor Sudoeste   GOIANIA   \n",
       "928                      Avenida C8    540          Setor Sudoeste   GOIANIA   \n",
       "929                      Avenida C8    540          Setor Sudoeste   GOIANIA   \n",
       "\n",
       "           4  \n",
       "0     Brazil  \n",
       "1     Brazil  \n",
       "2     Brazil  \n",
       "3     Brazil  \n",
       "4     Brazil  \n",
       "..       ...  \n",
       "925   Brazil  \n",
       "926   Brazil  \n",
       "927   Brazil  \n",
       "928   Brazil  \n",
       "929   Brazil  \n",
       "\n",
       "[930 rows x 5 columns]"
      ]
     },
     "execution_count": 15,
     "metadata": {},
     "output_type": "execute_result"
    }
   ],
   "source": [
    "# Separando a coluna endereço_origem\n",
    "\n",
    "df['endereco_origem'].str.split(',' , expand=True)"
   ]
  },
  {
   "cell_type": "code",
   "execution_count": 16,
   "id": "88c75cd9",
   "metadata": {
    "scrolled": false
   },
   "outputs": [
    {
     "data": {
      "text/html": [
       "<div>\n",
       "<style scoped>\n",
       "    .dataframe tbody tr th:only-of-type {\n",
       "        vertical-align: middle;\n",
       "    }\n",
       "\n",
       "    .dataframe tbody tr th {\n",
       "        vertical-align: top;\n",
       "    }\n",
       "\n",
       "    .dataframe thead th {\n",
       "        text-align: right;\n",
       "    }\n",
       "</style>\n",
       "<table border=\"1\" class=\"dataframe\">\n",
       "  <thead>\n",
       "    <tr style=\"text-align: right;\">\n",
       "      <th></th>\n",
       "      <th>driver_id</th>\n",
       "      <th>numero_pedido</th>\n",
       "      <th>modo_pagamento</th>\n",
       "      <th>modal</th>\n",
       "      <th>regiao</th>\n",
       "      <th>hora_pedido</th>\n",
       "      <th>id_entregador</th>\n",
       "      <th>endereco_origem</th>\n",
       "      <th>dt</th>\n",
       "      <th>Ano</th>\n",
       "      <th>Mês</th>\n",
       "      <th>Dia</th>\n",
       "      <th>hora</th>\n",
       "      <th>Dia da Semana</th>\n",
       "      <th>Parte do dia</th>\n",
       "      <th>Rua</th>\n",
       "      <th>numero</th>\n",
       "      <th>Bairro</th>\n",
       "      <th>Cidade</th>\n",
       "      <th>País</th>\n",
       "    </tr>\n",
       "  </thead>\n",
       "  <tbody>\n",
       "    <tr>\n",
       "      <th>0</th>\n",
       "      <td>2236269</td>\n",
       "      <td>2369781599</td>\n",
       "      <td>ONLINE</td>\n",
       "      <td>CAR</td>\n",
       "      <td>GOIANIA</td>\n",
       "      <td>2020-10-14 11:45:45.200</td>\n",
       "      <td>4cea13b7-58a6-4916-8986-613d38eb0c10</td>\n",
       "      <td>R 230 QD. 57 LT. 30-A, 234, S.LESTE UNIVERSITA...</td>\n",
       "      <td>2020-10-14</td>\n",
       "      <td>2020</td>\n",
       "      <td>Outubro</td>\n",
       "      <td>14</td>\n",
       "      <td>11</td>\n",
       "      <td>Quarta-feira</td>\n",
       "      <td>Manhã</td>\n",
       "      <td>R 230 QD. 57 LT. 30-A</td>\n",
       "      <td>234</td>\n",
       "      <td>S.LESTE UNIVERSITARIO</td>\n",
       "      <td>GOIANIA</td>\n",
       "      <td>Brazil</td>\n",
       "    </tr>\n",
       "    <tr>\n",
       "      <th>1</th>\n",
       "      <td>2236269</td>\n",
       "      <td>2369774060</td>\n",
       "      <td>ONLINE</td>\n",
       "      <td>CAR</td>\n",
       "      <td>GOIANIA</td>\n",
       "      <td>2020-10-14 11:44:00.017</td>\n",
       "      <td>4cea13b7-58a6-4916-8986-613d38eb0c10</td>\n",
       "      <td>R 230 QD. 57 LT. 30-A, 234, S.LESTE UNIVERSITA...</td>\n",
       "      <td>2020-10-14</td>\n",
       "      <td>2020</td>\n",
       "      <td>Outubro</td>\n",
       "      <td>14</td>\n",
       "      <td>11</td>\n",
       "      <td>Quarta-feira</td>\n",
       "      <td>Manhã</td>\n",
       "      <td>R 230 QD. 57 LT. 30-A</td>\n",
       "      <td>234</td>\n",
       "      <td>S.LESTE UNIVERSITARIO</td>\n",
       "      <td>GOIANIA</td>\n",
       "      <td>Brazil</td>\n",
       "    </tr>\n",
       "  </tbody>\n",
       "</table>\n",
       "</div>"
      ],
      "text/plain": [
       "   driver_id numero_pedido modo_pagamento modal   regiao  \\\n",
       "0    2236269    2369781599         ONLINE   CAR  GOIANIA   \n",
       "1    2236269    2369774060         ONLINE   CAR  GOIANIA   \n",
       "\n",
       "              hora_pedido                         id_entregador  \\\n",
       "0 2020-10-14 11:45:45.200  4cea13b7-58a6-4916-8986-613d38eb0c10   \n",
       "1 2020-10-14 11:44:00.017  4cea13b7-58a6-4916-8986-613d38eb0c10   \n",
       "\n",
       "                                     endereco_origem          dt   Ano  \\\n",
       "0  R 230 QD. 57 LT. 30-A, 234, S.LESTE UNIVERSITA...  2020-10-14  2020   \n",
       "1  R 230 QD. 57 LT. 30-A, 234, S.LESTE UNIVERSITA...  2020-10-14  2020   \n",
       "\n",
       "       Mês  Dia  hora Dia da Semana Parte do dia                    Rua  \\\n",
       "0  Outubro   14    11  Quarta-feira        Manhã  R 230 QD. 57 LT. 30-A   \n",
       "1  Outubro   14    11  Quarta-feira        Manhã  R 230 QD. 57 LT. 30-A   \n",
       "\n",
       "  numero                  Bairro    Cidade     País  \n",
       "0    234   S.LESTE UNIVERSITARIO   GOIANIA   Brazil  \n",
       "1    234   S.LESTE UNIVERSITARIO   GOIANIA   Brazil  "
      ]
     },
     "execution_count": 16,
     "metadata": {},
     "output_type": "execute_result"
    }
   ],
   "source": [
    "# Nomeando as novas colunas\n",
    "\n",
    "df[['Rua', 'numero', 'Bairro', 'Cidade', 'País']] = df['endereco_origem'].str.split(',' , expand=True)\n",
    "df.head(2)"
   ]
  },
  {
   "cell_type": "code",
   "execution_count": 17,
   "id": "5b2be466",
   "metadata": {
    "scrolled": false
   },
   "outputs": [
    {
     "data": {
      "text/html": [
       "<div>\n",
       "<style scoped>\n",
       "    .dataframe tbody tr th:only-of-type {\n",
       "        vertical-align: middle;\n",
       "    }\n",
       "\n",
       "    .dataframe tbody tr th {\n",
       "        vertical-align: top;\n",
       "    }\n",
       "\n",
       "    .dataframe thead th {\n",
       "        text-align: right;\n",
       "    }\n",
       "</style>\n",
       "<table border=\"1\" class=\"dataframe\">\n",
       "  <thead>\n",
       "    <tr style=\"text-align: right;\">\n",
       "      <th></th>\n",
       "      <th>modal</th>\n",
       "      <th>hora_pedido</th>\n",
       "      <th>dt</th>\n",
       "      <th>Ano</th>\n",
       "      <th>Mês</th>\n",
       "      <th>Dia</th>\n",
       "      <th>hora</th>\n",
       "      <th>Dia da Semana</th>\n",
       "      <th>Parte do dia</th>\n",
       "      <th>Bairro</th>\n",
       "      <th>Cidade</th>\n",
       "      <th>País</th>\n",
       "    </tr>\n",
       "  </thead>\n",
       "  <tbody>\n",
       "    <tr>\n",
       "      <th>0</th>\n",
       "      <td>CAR</td>\n",
       "      <td>2020-10-14 11:45:45.200</td>\n",
       "      <td>2020-10-14</td>\n",
       "      <td>2020</td>\n",
       "      <td>Outubro</td>\n",
       "      <td>14</td>\n",
       "      <td>11</td>\n",
       "      <td>Quarta-feira</td>\n",
       "      <td>Manhã</td>\n",
       "      <td>S.LESTE UNIVERSITARIO</td>\n",
       "      <td>GOIANIA</td>\n",
       "      <td>Brazil</td>\n",
       "    </tr>\n",
       "    <tr>\n",
       "      <th>1</th>\n",
       "      <td>CAR</td>\n",
       "      <td>2020-10-14 11:44:00.017</td>\n",
       "      <td>2020-10-14</td>\n",
       "      <td>2020</td>\n",
       "      <td>Outubro</td>\n",
       "      <td>14</td>\n",
       "      <td>11</td>\n",
       "      <td>Quarta-feira</td>\n",
       "      <td>Manhã</td>\n",
       "      <td>S.LESTE UNIVERSITARIO</td>\n",
       "      <td>GOIANIA</td>\n",
       "      <td>Brazil</td>\n",
       "    </tr>\n",
       "    <tr>\n",
       "      <th>2</th>\n",
       "      <td>CAR</td>\n",
       "      <td>2020-10-14 11:30:35.849</td>\n",
       "      <td>2020-10-14</td>\n",
       "      <td>2020</td>\n",
       "      <td>Outubro</td>\n",
       "      <td>14</td>\n",
       "      <td>11</td>\n",
       "      <td>Quarta-feira</td>\n",
       "      <td>Manhã</td>\n",
       "      <td>S.LESTE UNIVERSITARIO</td>\n",
       "      <td>GOIANIA</td>\n",
       "      <td>Brazil</td>\n",
       "    </tr>\n",
       "    <tr>\n",
       "      <th>3</th>\n",
       "      <td>CAR</td>\n",
       "      <td>2020-10-14 10:59:39.420</td>\n",
       "      <td>2020-10-14</td>\n",
       "      <td>2020</td>\n",
       "      <td>Outubro</td>\n",
       "      <td>14</td>\n",
       "      <td>10</td>\n",
       "      <td>Quarta-feira</td>\n",
       "      <td>Manhã</td>\n",
       "      <td>CONJUNTO RIVIERA</td>\n",
       "      <td>GOIANIA</td>\n",
       "      <td>Brazil</td>\n",
       "    </tr>\n",
       "    <tr>\n",
       "      <th>4</th>\n",
       "      <td>CAR</td>\n",
       "      <td>2020-10-14 10:42:09.247</td>\n",
       "      <td>2020-10-14</td>\n",
       "      <td>2020</td>\n",
       "      <td>Outubro</td>\n",
       "      <td>14</td>\n",
       "      <td>10</td>\n",
       "      <td>Quarta-feira</td>\n",
       "      <td>Manhã</td>\n",
       "      <td>CONJUNTO RIVIERA</td>\n",
       "      <td>GOIANIA</td>\n",
       "      <td>Brazil</td>\n",
       "    </tr>\n",
       "  </tbody>\n",
       "</table>\n",
       "</div>"
      ],
      "text/plain": [
       "  modal             hora_pedido          dt   Ano      Mês  Dia  hora  \\\n",
       "0   CAR 2020-10-14 11:45:45.200  2020-10-14  2020  Outubro   14    11   \n",
       "1   CAR 2020-10-14 11:44:00.017  2020-10-14  2020  Outubro   14    11   \n",
       "2   CAR 2020-10-14 11:30:35.849  2020-10-14  2020  Outubro   14    11   \n",
       "3   CAR 2020-10-14 10:59:39.420  2020-10-14  2020  Outubro   14    10   \n",
       "4   CAR 2020-10-14 10:42:09.247  2020-10-14  2020  Outubro   14    10   \n",
       "\n",
       "  Dia da Semana Parte do dia                  Bairro    Cidade     País  \n",
       "0  Quarta-feira        Manhã   S.LESTE UNIVERSITARIO   GOIANIA   Brazil  \n",
       "1  Quarta-feira        Manhã   S.LESTE UNIVERSITARIO   GOIANIA   Brazil  \n",
       "2  Quarta-feira        Manhã   S.LESTE UNIVERSITARIO   GOIANIA   Brazil  \n",
       "3  Quarta-feira        Manhã        CONJUNTO RIVIERA   GOIANIA   Brazil  \n",
       "4  Quarta-feira        Manhã        CONJUNTO RIVIERA   GOIANIA   Brazil  "
      ]
     },
     "execution_count": 17,
     "metadata": {},
     "output_type": "execute_result"
    }
   ],
   "source": [
    "# Eliminando as colunas que não vou utilizar\n",
    "\n",
    "df = df.drop(columns=['driver_id','numero_pedido','modo_pagamento','regiao','id_entregador','endereco_origem', 'Rua', 'numero'])\n",
    "df.head()"
   ]
  },
  {
   "cell_type": "code",
   "execution_count": 18,
   "id": "3e99b64e",
   "metadata": {},
   "outputs": [
    {
     "data": {
      "text/plain": [
       "2020-12-03    18\n",
       "2020-11-09    18\n",
       "2020-11-10    17\n",
       "2020-10-19    16\n",
       "2020-10-08    16\n",
       "              ..\n",
       "2021-01-16     1\n",
       "2021-04-12     1\n",
       "2020-12-30     1\n",
       "2020-09-14     1\n",
       "2021-01-28     1\n",
       "Name: dt, Length: 161, dtype: int64"
      ]
     },
     "execution_count": 18,
     "metadata": {},
     "output_type": "execute_result"
    }
   ],
   "source": [
    "# Verificando o dia que mais teve pedidos\n",
    "\n",
    "df[\"dt\"].value_counts()"
   ]
  },
  {
   "cell_type": "code",
   "execution_count": 19,
   "id": "53273d57",
   "metadata": {
    "scrolled": true
   },
   "outputs": [
    {
     "data": {
      "text/plain": [
       "<AxesSubplot:>"
      ]
     },
     "execution_count": 19,
     "metadata": {},
     "output_type": "execute_result"
    },
    {
     "data": {
      "image/png": "[encoded data removed]",
      "text/plain": [
       "<Figure size 432x288 with 1 Axes>"
      ]
     },
     "metadata": {
      "needs_background": "light"
     },
     "output_type": "display_data"
    }
   ],
   "source": [
    "# Plotando o dia que mais teve pedidos\n",
    "\n",
    "df[\"dt\"].value_counts().head(5).plot.bar()"
   ]
  },
  {
   "cell_type": "code",
   "execution_count": 20,
   "id": "9342a85a",
   "metadata": {},
   "outputs": [
    {
     "data": {
      "text/plain": [
       " JARDIM GOIAS                 344\n",
       " Setor Sudoeste               150\n",
       " SETOR LESTE UNIVERSITÁRIO     97\n",
       " Jardim Goiás                  57\n",
       " JARDIM NOVA ERA               55\n",
       " SET BUENO                     53\n",
       " AEROVIARIO                    27\n",
       " JARDIM COLORADO               18\n",
       " Vila Redenção                 13\n",
       " JARDIM GUANABARA              12\n",
       "Name: Bairro, dtype: int64"
      ]
     },
     "execution_count": 20,
     "metadata": {},
     "output_type": "execute_result"
    }
   ],
   "source": [
    "# Verificando o Bairro que mais teve pedidos\n",
    "\n",
    "df[\"Bairro\"].value_counts().head(10)"
   ]
  },
  {
   "cell_type": "code",
   "execution_count": 21,
   "id": "376928c0",
   "metadata": {},
   "outputs": [
    {
     "data": {
      "text/plain": [
       "<AxesSubplot:>"
      ]
     },
     "execution_count": 21,
     "metadata": {},
     "output_type": "execute_result"
    },
    {
     "data": {
      "image/png": "[encoded data removed]",
      "text/plain": [
       "<Figure size 432x288 with 1 Axes>"
      ]
     },
     "metadata": {
      "needs_background": "light"
     },
     "output_type": "display_data"
    }
   ],
   "source": [
    "# Plotando o Bairro que mais teve pedidos\n",
    "\n",
    "df[\"Bairro\"].value_counts().head(10).plot.barh()"
   ]
  },
  {
   "cell_type": "code",
   "execution_count": 22,
   "id": "2537ed6b",
   "metadata": {},
   "outputs": [
    {
     "data": {
      "text/plain": [
       " GOIANIA                 842\n",
       " APARECIDA DE GOIANIA     81\n",
       "Name: Cidade, dtype: int64"
      ]
     },
     "execution_count": 22,
     "metadata": {},
     "output_type": "execute_result"
    }
   ],
   "source": [
    "# Verificando a cidade que mais teve pedidos\n",
    "\n",
    "df[\"Cidade\"].value_counts()"
   ]
  },
  {
   "cell_type": "code",
   "execution_count": 23,
   "id": "46ac177a",
   "metadata": {
    "scrolled": true
   },
   "outputs": [
    {
     "data": {
      "text/plain": [
       "<AxesSubplot:>"
      ]
     },
     "execution_count": 23,
     "metadata": {},
     "output_type": "execute_result"
    },
    {
     "data": {
      "image/png": "[encoded data removed]",
      "text/plain": [
       "<Figure size 432x288 with 1 Axes>"
      ]
     },
     "metadata": {
      "needs_background": "light"
     },
     "output_type": "display_data"
    }
   ],
   "source": [
    "# Plotando a cidade que mais teve pedidos\n",
    "\n",
    "df[\"Cidade\"].value_counts().plot.barh()"
   ]
  },
  {
   "cell_type": "code",
   "execution_count": 24,
   "id": "b493287a",
   "metadata": {},
   "outputs": [
    {
     "data": {
      "text/plain": [
       "Index(['modal', 'hora_pedido', 'dt', 'Ano', 'Mês', 'Dia', 'hora',\n",
       "       'Dia da Semana', 'Parte do dia', 'Bairro', 'Cidade', 'País'],\n",
       "      dtype='object')"
      ]
     },
     "execution_count": 24,
     "metadata": {},
     "output_type": "execute_result"
    }
   ],
   "source": [
    "df.columns"
   ]
  },
  {
   "cell_type": "code",
   "execution_count": 25,
   "id": "37bf7350",
   "metadata": {},
   "outputs": [
    {
     "data": {
      "text/plain": [
       "Outubro      259\n",
       "Novembro     244\n",
       "Dezembro     135\n",
       "Setembro     100\n",
       "Janeiro       50\n",
       "Fevereiro     42\n",
       "Abril         29\n",
       "Julho         23\n",
       "Março         18\n",
       "Maio          17\n",
       "Junho          9\n",
       "Agosto         4\n",
       "Name: Mês, dtype: int64"
      ]
     },
     "execution_count": 25,
     "metadata": {},
     "output_type": "execute_result"
    }
   ],
   "source": [
    "df[\"Mês\"].value_counts()"
   ]
  },
  {
   "cell_type": "code",
   "execution_count": 26,
   "id": "707adeae",
   "metadata": {},
   "outputs": [
    {
     "data": {
      "text/plain": [
       "<AxesSubplot:>"
      ]
     },
     "execution_count": 26,
     "metadata": {},
     "output_type": "execute_result"
    },
    {
     "data": {
      "image/png": "[encoded data removed]",
      "text/plain": [
       "<Figure size 432x288 with 1 Axes>"
      ]
     },
     "metadata": {
      "needs_background": "light"
     },
     "output_type": "display_data"
    }
   ],
   "source": [
    "df[\"Mês\"].value_counts().plot.barh()"
   ]
  },
  {
   "cell_type": "code",
   "execution_count": 27,
   "id": "cf9fa36a",
   "metadata": {},
   "outputs": [
    {
     "data": {
      "text/plain": [
       "24    53\n",
       "9     52\n",
       "22    49\n",
       "3     47\n",
       "8     45\n",
       "27    39\n",
       "10    39\n",
       "21    37\n",
       "6     36\n",
       "5     35\n",
       "15    35\n",
       "14    34\n",
       "23    31\n",
       "7     30\n",
       "20    30\n",
       "26    29\n",
       "13    29\n",
       "18    28\n",
       "2     27\n",
       "19    27\n",
       "16    27\n",
       "1     25\n",
       "11    20\n",
       "4     20\n",
       "25    19\n",
       "12    18\n",
       "28    17\n",
       "17    16\n",
       "29    16\n",
       "30    15\n",
       "31     5\n",
       "Name: Dia, dtype: int64"
      ]
     },
     "execution_count": 27,
     "metadata": {},
     "output_type": "execute_result"
    }
   ],
   "source": [
    "df[\"Dia\"].value_counts()"
   ]
  },
  {
   "cell_type": "code",
   "execution_count": 28,
   "id": "5e0572cc",
   "metadata": {},
   "outputs": [
    {
     "data": {
      "text/plain": [
       "<AxesSubplot:>"
      ]
     },
     "execution_count": 28,
     "metadata": {},
     "output_type": "execute_result"
    },
    {
     "data": {
      "image/png": "[encoded data removed]",
      "text/plain": [
       "<Figure size 432x288 with 1 Axes>"
      ]
     },
     "metadata": {
      "needs_background": "light"
     },
     "output_type": "display_data"
    }
   ],
   "source": [
    "df[\"Dia\"].value_counts().plot.barh()"
   ]
  },
  {
   "cell_type": "code",
   "execution_count": 29,
   "id": "f502dcfd",
   "metadata": {},
   "outputs": [
    {
     "data": {
      "text/plain": [
       "15    99\n",
       "10    95\n",
       "11    92\n",
       "13    87\n",
       "14    81\n",
       "12    75\n",
       "16    65\n",
       "17    61\n",
       "18    46\n",
       "9     44\n",
       "19    42\n",
       "20    31\n",
       "8     26\n",
       "22    25\n",
       "21    23\n",
       "7     17\n",
       "23     7\n",
       "0      5\n",
       "1      4\n",
       "6      3\n",
       "3      1\n",
       "2      1\n",
       "Name: hora, dtype: int64"
      ]
     },
     "execution_count": 29,
     "metadata": {},
     "output_type": "execute_result"
    }
   ],
   "source": [
    "df[\"hora\"].value_counts()"
   ]
  },
  {
   "cell_type": "code",
   "execution_count": 30,
   "id": "edfdc66f",
   "metadata": {},
   "outputs": [
    {
     "data": {
      "text/plain": [
       "<AxesSubplot:>"
      ]
     },
     "execution_count": 30,
     "metadata": {},
     "output_type": "execute_result"
    },
    {
     "data": {
      "image/png": "[encoded data removed]",
      "text/plain": [
       "<Figure size 432x288 with 1 Axes>"
      ]
     },
     "metadata": {
      "needs_background": "light"
     },
     "output_type": "display_data"
    }
   ],
   "source": [
    "df[\"hora\"].value_counts().plot.barh()"
   ]
  },
  {
   "cell_type": "code",
   "execution_count": 31,
   "id": "6e5af0b2",
   "metadata": {},
   "outputs": [
    {
     "data": {
      "text/plain": [
       "Quinta-feira     200\n",
       "Terça-feira      191\n",
       "Quarta-feira     151\n",
       "Segunda-feira    122\n",
       "Sexta-feira      111\n",
       "Sábado           106\n",
       "Domingo           49\n",
       "Name: Dia da Semana, dtype: int64"
      ]
     },
     "execution_count": 31,
     "metadata": {},
     "output_type": "execute_result"
    }
   ],
   "source": [
    "df[\"Dia da Semana\"].value_counts()"
   ]
  },
  {
   "cell_type": "code",
   "execution_count": 32,
   "id": "d2df5b64",
   "metadata": {},
   "outputs": [
    {
     "data": {
      "text/plain": [
       "<AxesSubplot:>"
      ]
     },
     "execution_count": 32,
     "metadata": {},
     "output_type": "execute_result"
    },
    {
     "data": {
      "image/png": "[encoded data removed]",
      "text/plain": [
       "<Figure size 432x288 with 1 Axes>"
      ]
     },
     "metadata": {
      "needs_background": "light"
     },
     "output_type": "display_data"
    }
   ],
   "source": [
    "df[\"Dia da Semana\"].value_counts().plot.barh()"
   ]
  },
  {
   "cell_type": "code",
   "execution_count": 33,
   "id": "f7aa8506",
   "metadata": {},
   "outputs": [
    {
     "data": {
      "text/html": [
       "<div>\n",
       "<style scoped>\n",
       "    .dataframe tbody tr th:only-of-type {\n",
       "        vertical-align: middle;\n",
       "    }\n",
       "\n",
       "    .dataframe tbody tr th {\n",
       "        vertical-align: top;\n",
       "    }\n",
       "\n",
       "    .dataframe thead th {\n",
       "        text-align: right;\n",
       "    }\n",
       "</style>\n",
       "<table border=\"1\" class=\"dataframe\">\n",
       "  <thead>\n",
       "    <tr style=\"text-align: right;\">\n",
       "      <th></th>\n",
       "      <th>modal</th>\n",
       "      <th>hora_pedido</th>\n",
       "      <th>dt</th>\n",
       "      <th>Ano</th>\n",
       "      <th>Mês</th>\n",
       "      <th>Dia</th>\n",
       "      <th>hora</th>\n",
       "      <th>Dia da Semana</th>\n",
       "      <th>Parte do dia</th>\n",
       "      <th>Bairro</th>\n",
       "      <th>Cidade</th>\n",
       "      <th>País</th>\n",
       "    </tr>\n",
       "  </thead>\n",
       "  <tbody>\n",
       "    <tr>\n",
       "      <th>0</th>\n",
       "      <td>CAR</td>\n",
       "      <td>2020-10-14 11:45:45.200</td>\n",
       "      <td>2020-10-14</td>\n",
       "      <td>2020</td>\n",
       "      <td>Outubro</td>\n",
       "      <td>14</td>\n",
       "      <td>11</td>\n",
       "      <td>Quarta-feira</td>\n",
       "      <td>Manhã</td>\n",
       "      <td>S.LESTE UNIVERSITARIO</td>\n",
       "      <td>GOIANIA</td>\n",
       "      <td>Brazil</td>\n",
       "    </tr>\n",
       "    <tr>\n",
       "      <th>1</th>\n",
       "      <td>CAR</td>\n",
       "      <td>2020-10-14 11:44:00.017</td>\n",
       "      <td>2020-10-14</td>\n",
       "      <td>2020</td>\n",
       "      <td>Outubro</td>\n",
       "      <td>14</td>\n",
       "      <td>11</td>\n",
       "      <td>Quarta-feira</td>\n",
       "      <td>Manhã</td>\n",
       "      <td>S.LESTE UNIVERSITARIO</td>\n",
       "      <td>GOIANIA</td>\n",
       "      <td>Brazil</td>\n",
       "    </tr>\n",
       "    <tr>\n",
       "      <th>2</th>\n",
       "      <td>CAR</td>\n",
       "      <td>2020-10-14 11:30:35.849</td>\n",
       "      <td>2020-10-14</td>\n",
       "      <td>2020</td>\n",
       "      <td>Outubro</td>\n",
       "      <td>14</td>\n",
       "      <td>11</td>\n",
       "      <td>Quarta-feira</td>\n",
       "      <td>Manhã</td>\n",
       "      <td>S.LESTE UNIVERSITARIO</td>\n",
       "      <td>GOIANIA</td>\n",
       "      <td>Brazil</td>\n",
       "    </tr>\n",
       "    <tr>\n",
       "      <th>3</th>\n",
       "      <td>CAR</td>\n",
       "      <td>2020-10-14 10:59:39.420</td>\n",
       "      <td>2020-10-14</td>\n",
       "      <td>2020</td>\n",
       "      <td>Outubro</td>\n",
       "      <td>14</td>\n",
       "      <td>10</td>\n",
       "      <td>Quarta-feira</td>\n",
       "      <td>Manhã</td>\n",
       "      <td>CONJUNTO RIVIERA</td>\n",
       "      <td>GOIANIA</td>\n",
       "      <td>Brazil</td>\n",
       "    </tr>\n",
       "    <tr>\n",
       "      <th>4</th>\n",
       "      <td>CAR</td>\n",
       "      <td>2020-10-14 10:42:09.247</td>\n",
       "      <td>2020-10-14</td>\n",
       "      <td>2020</td>\n",
       "      <td>Outubro</td>\n",
       "      <td>14</td>\n",
       "      <td>10</td>\n",
       "      <td>Quarta-feira</td>\n",
       "      <td>Manhã</td>\n",
       "      <td>CONJUNTO RIVIERA</td>\n",
       "      <td>GOIANIA</td>\n",
       "      <td>Brazil</td>\n",
       "    </tr>\n",
       "  </tbody>\n",
       "</table>\n",
       "</div>"
      ],
      "text/plain": [
       "  modal             hora_pedido          dt   Ano      Mês  Dia  hora  \\\n",
       "0   CAR 2020-10-14 11:45:45.200  2020-10-14  2020  Outubro   14    11   \n",
       "1   CAR 2020-10-14 11:44:00.017  2020-10-14  2020  Outubro   14    11   \n",
       "2   CAR 2020-10-14 11:30:35.849  2020-10-14  2020  Outubro   14    11   \n",
       "3   CAR 2020-10-14 10:59:39.420  2020-10-14  2020  Outubro   14    10   \n",
       "4   CAR 2020-10-14 10:42:09.247  2020-10-14  2020  Outubro   14    10   \n",
       "\n",
       "  Dia da Semana Parte do dia                  Bairro    Cidade     País  \n",
       "0  Quarta-feira        Manhã   S.LESTE UNIVERSITARIO   GOIANIA   Brazil  \n",
       "1  Quarta-feira        Manhã   S.LESTE UNIVERSITARIO   GOIANIA   Brazil  \n",
       "2  Quarta-feira        Manhã   S.LESTE UNIVERSITARIO   GOIANIA   Brazil  \n",
       "3  Quarta-feira        Manhã        CONJUNTO RIVIERA   GOIANIA   Brazil  \n",
       "4  Quarta-feira        Manhã        CONJUNTO RIVIERA   GOIANIA   Brazil  "
      ]
     },
     "execution_count": 33,
     "metadata": {},
     "output_type": "execute_result"
    }
   ],
   "source": [
    "df.head()"
   ]
  },
  {
   "cell_type": "code",
   "execution_count": 34,
   "id": "335a759c",
   "metadata": {},
   "outputs": [],
   "source": [
    "df.to_csv('APRESENTAÇÃO IFOOD/dados_IFOODENTREGADOR.csv', index=False)"
   ]
  },
  {
   "cell_type": "code",
   "execution_count": null,
   "id": "efafa9d1",
   "metadata": {},
   "outputs": [],
   "source": []
  }
 ],
 "metadata": {
  "kernelspec": {
   "display_name": "Python 3",
   "language": "python",
   "name": "python3"
  },
  "language_info": {
   "codemirror_mode": {
    "name": "ipython",
    "version": 3
   },
   "file_extension": ".py",
   "mimetype": "text/x-python",
   "name": "python",
   "nbconvert_exporter": "python",
   "pygments_lexer": "ipython3",
   "version": "3.8.8"
  }
 },
 "nbformat": 4,
 "nbformat_minor": 5
}
